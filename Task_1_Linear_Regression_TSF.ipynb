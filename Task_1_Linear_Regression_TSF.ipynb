{
  "nbformat": 4,
  "nbformat_minor": 0,
  "metadata": {
    "colab": {
      "name": "Task 1 Linear Regression TSF.ipynb",
      "provenance": [],
      "collapsed_sections": []
    },
    "kernelspec": {
      "display_name": "Python 3",
      "name": "python3"
    },
    "language_info": {
      "name": "python"
    }
  },
  "cells": [
    {
      "cell_type": "markdown",
      "metadata": {
        "id": "fAFSTOcbChgP"
      },
      "source": [
        " **Linear Regression using Scikit-Learn <br>\n",
        "The Sparks Foundation <br>\n",
        "Task 1**\n",
        "By Varun Bharadwaj"
      ]
    },
    {
      "cell_type": "code",
      "metadata": {
        "id": "mGdGZuhNDgIq"
      },
      "source": [
        "import torch\n",
        "import pandas as pd\n",
        "from torch.autograd import Variable\n",
        "import matplotlib.pyplot as plt\n",
        "import numpy as np"
      ],
      "execution_count": 80,
      "outputs": []
    },
    {
      "cell_type": "code",
      "metadata": {
        "colab": {
          "base_uri": "https://localhost:8080/",
          "height": 206
        },
        "id": "cqz3OXMLEOUn",
        "outputId": "12c8a644-e4bf-4e18-8fd3-b4eeb9185417"
      },
      "source": [
        "dataset = pd.read_csv('http://bit.ly/w-data')\n",
        "dataset.head()"
      ],
      "execution_count": 81,
      "outputs": [
        {
          "output_type": "execute_result",
          "data": {
            "text/html": [
              "<div>\n",
              "<style scoped>\n",
              "    .dataframe tbody tr th:only-of-type {\n",
              "        vertical-align: middle;\n",
              "    }\n",
              "\n",
              "    .dataframe tbody tr th {\n",
              "        vertical-align: top;\n",
              "    }\n",
              "\n",
              "    .dataframe thead th {\n",
              "        text-align: right;\n",
              "    }\n",
              "</style>\n",
              "<table border=\"1\" class=\"dataframe\">\n",
              "  <thead>\n",
              "    <tr style=\"text-align: right;\">\n",
              "      <th></th>\n",
              "      <th>Hours</th>\n",
              "      <th>Scores</th>\n",
              "    </tr>\n",
              "  </thead>\n",
              "  <tbody>\n",
              "    <tr>\n",
              "      <th>0</th>\n",
              "      <td>2.5</td>\n",
              "      <td>21</td>\n",
              "    </tr>\n",
              "    <tr>\n",
              "      <th>1</th>\n",
              "      <td>5.1</td>\n",
              "      <td>47</td>\n",
              "    </tr>\n",
              "    <tr>\n",
              "      <th>2</th>\n",
              "      <td>3.2</td>\n",
              "      <td>27</td>\n",
              "    </tr>\n",
              "    <tr>\n",
              "      <th>3</th>\n",
              "      <td>8.5</td>\n",
              "      <td>75</td>\n",
              "    </tr>\n",
              "    <tr>\n",
              "      <th>4</th>\n",
              "      <td>3.5</td>\n",
              "      <td>30</td>\n",
              "    </tr>\n",
              "  </tbody>\n",
              "</table>\n",
              "</div>"
            ],
            "text/plain": [
              "   Hours  Scores\n",
              "0    2.5      21\n",
              "1    5.1      47\n",
              "2    3.2      27\n",
              "3    8.5      75\n",
              "4    3.5      30"
            ]
          },
          "metadata": {
            "tags": []
          },
          "execution_count": 81
        }
      ]
    },
    {
      "cell_type": "code",
      "metadata": {
        "id": "gRGSUGaaKvCC"
      },
      "source": [
        "# data preprocessing\n",
        "X = dataset.iloc[:, :-1].values  #independent variable array\n",
        "y = dataset.iloc[:,1].values  #dependent variable vector\n",
        " \n",
        "# splitting the dataset\n",
        "from sklearn.model_selection import train_test_split\n",
        "X_train, X_test, y_train, y_test = train_test_split(X,y,test_size=1/3,random_state=0)"
      ],
      "execution_count": 82,
      "outputs": []
    },
    {
      "cell_type": "code",
      "metadata": {
        "colab": {
          "base_uri": "https://localhost:8080/"
        },
        "id": "flel-EtYK14F",
        "outputId": "17762582-2717-42af-a344-fa9c742a63d4"
      },
      "source": [
        "# fitting the regression model\n",
        "from sklearn.linear_model import LinearRegression\n",
        "regressor = LinearRegression()\n",
        "regressor.fit(X_train,y_train) #actually produces the linear eqn for the data\n",
        " \n",
        "# predicting the test set results\n",
        "y_pred = regressor.predict(X_test) \n",
        "y_pred"
      ],
      "execution_count": 83,
      "outputs": [
        {
          "output_type": "execute_result",
          "data": {
            "text/plain": [
              "array([17.04289179, 33.51695377, 74.21757747, 26.73351648, 59.68164043,\n",
              "       39.33132858, 20.91914167, 78.09382734, 69.37226512])"
            ]
          },
          "metadata": {
            "tags": []
          },
          "execution_count": 83
        }
      ]
    },
    {
      "cell_type": "code",
      "metadata": {
        "colab": {
          "base_uri": "https://localhost:8080/"
        },
        "id": "9tfNdfHfK6X8",
        "outputId": "1a742e2f-0afe-401b-b409-131292f0c63d"
      },
      "source": [
        "y_test"
      ],
      "execution_count": 84,
      "outputs": [
        {
          "output_type": "execute_result",
          "data": {
            "text/plain": [
              "array([20, 27, 69, 30, 62, 35, 24, 86, 76])"
            ]
          },
          "metadata": {
            "tags": []
          },
          "execution_count": 84
        }
      ]
    },
    {
      "cell_type": "code",
      "metadata": {
        "colab": {
          "base_uri": "https://localhost:8080/",
          "height": 281
        },
        "id": "roMLI94gK93c",
        "outputId": "edd992cf-22e3-4e01-ef72-8f729c539279"
      },
      "source": [
        "# visualizing the results\n",
        "#plot for the TRAIN\n",
        "  \n",
        "plt.scatter(X_train, y_train, color='red') # plotting the observation line\n",
        "plt.plot(X_train, regressor.predict(X_train), color='blue') # plotting the regression line\n",
        "plt.title(\"hours vs score (Training set)\") # stating the title of the graph\n",
        "\n",
        "plt.show() # specifies end of graph"
      ],
      "execution_count": 85,
      "outputs": [
        {
          "output_type": "display_data",
          "data": {
            "image/png": "[encoded data removed]",
            "text/plain": [
              "<Figure size 432x288 with 1 Axes>"
            ]
          },
          "metadata": {
            "tags": [],
            "needs_background": "light"
          }
        }
      ]
    },
    {
      "cell_type": "code",
      "metadata": {
        "colab": {
          "base_uri": "https://localhost:8080/",
          "height": 281
        },
        "id": "6EeOy9N2LCoi",
        "outputId": "907eb74f-3f15-45c5-f83f-10d29258ab40"
      },
      "source": [
        "#plot for the TEST\n",
        "  \n",
        "plt.scatter(X_test, y_test, color='red') \n",
        "plt.plot(X_train, regressor.predict(X_train), color='blue') # plotting the regression line\n",
        "plt.title(\"hours vs score (Testing set)\")\n",
        "\n",
        "plt.show() "
      ],
      "execution_count": 86,
      "outputs": [
        {
          "output_type": "display_data",
          "data": {
            "image/png": "[encoded data removed]",
            "text/plain": [
              "<Figure size 432x288 with 1 Axes>"
            ]
          },
          "metadata": {
            "tags": [],
            "needs_background": "light"
          }
        }
      ]
    },
    {
      "cell_type": "code",
      "metadata": {
        "colab": {
          "base_uri": "https://localhost:8080/"
        },
        "id": "hSHwEsg_LC9T",
        "outputId": "10f09841-0e11-4173-f9e2-3586b78f1293"
      },
      "source": [
        "import numpy as np\n",
        "\n",
        "hours = np.array(9.25)\n",
        "own_pred = regressor.predict(hours.reshape(-1,1))\n",
        "print(\"No of Hours = {}\".format(hours))\n",
        "print(\"Predicted Score = {}\".format(own_pred[0]))"
      ],
      "execution_count": 87,
      "outputs": [
        {
          "output_type": "stream",
          "text": [
            "No of Hours = 9.25\n",
            "Predicted Score = 92.14523314523316\n"
          ],
          "name": "stdout"
        }
      ]
    },
    {
      "cell_type": "code",
      "metadata": {
        "colab": {
          "base_uri": "https://localhost:8080/"
        },
        "id": "P80994FlLcFU",
        "outputId": "177afa6d-d401-4603-8c73-235325aef165"
      },
      "source": [
        "from sklearn import metrics  \n",
        "print('Mean Absolute Error:', \n",
        "      metrics.mean_absolute_error(y_test, y_pred)) "
      ],
      "execution_count": 88,
      "outputs": [
        {
          "output_type": "stream",
          "text": [
            "Mean Absolute Error: 4.691397441397446\n"
          ],
          "name": "stdout"
        }
      ]
    },
    {
      "cell_type": "code",
      "metadata": {
        "id": "Tu3Z_gI8LsjS"
      },
      "source": [
        ""
      ],
      "execution_count": 70,
      "outputs": []
    }
  ]
}